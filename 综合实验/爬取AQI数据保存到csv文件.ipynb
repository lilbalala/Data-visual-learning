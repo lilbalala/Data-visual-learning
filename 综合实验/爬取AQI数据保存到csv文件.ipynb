{
 "cells": [
  {
   "cell_type": "code",
   "execution_count": 1,
   "id": "00c73b1b-a265-47bb-88b7-2eb5ea6ec866",
   "metadata": {},
   "outputs": [],
   "source": [
    "import requests\n",
    "from bs4 import BeautifulSoup\n",
    "import matplotlib.pyplot as plt"
   ]
  },
  {
   "cell_type": "code",
   "execution_count": 2,
   "id": "2ac159d7-327d-4e7b-bada-7f45f897a837",
   "metadata": {},
   "outputs": [],
   "source": [
    "ALL_DATA = []"
   ]
  },
  {
   "cell_type": "code",
   "execution_count": 3,
   "id": "131298a1-8e9e-490c-9a64-d4849e2600cc",
   "metadata": {},
   "outputs": [],
   "source": [
    "# 网页的解析函数\n",
    "def parse_page(url):\n",
    "    headers = {\n",
    "        'User-Agent': 'Mozilla/5.0 (Windows NT 10.0; Win64; x64) '\n",
    "                      'AppleWebKit/537.36 (KHTML, like Gecko) Chrome/70.0.3538.102 Safari/537.36'\n",
    "    }\n",
    "    response = requests.get(url, headers=headers)\n",
    "    text = response.content.decode('utf-8')\n",
    "    soup = BeautifulSoup(text, 'html5lib')  # 由于html5lib容错性较好因此用它不用lxml\n",
    "    conMidtab = soup.find('div', class_='conMidtab')\n",
    "    tables = conMidtab.find_all('table')\n",
    "    # 查看是否拿到了每个城市的天气\n",
    "    for table in tables:\n",
    "        trs = table.find_all('tr')[2:]\n",
    "        for index, tr in enumerate(trs):\n",
    "            tds = tr.find_all('td')\n",
    "            city_td = tds[0]\n",
    "            if index == 0:\n",
    "                city_td = tds[1]\n",
    "            city = list(city_td.stripped_strings)[0]  # 获取标签里面的字符串属性返回一个生成器,因此要转化为一个列表\n",
    "            temp_td = tds[-2]\n",
    "            min_temp = list(temp_td.stripped_strings)[0]"
   ]
  },
  {
   "cell_type": "code",
   "execution_count": 4,
   "id": "a95a8072-29fe-495b-8cd7-8cffa0639c3d",
   "metadata": {},
   "outputs": [],
   "source": [
    "def main():\n",
    "    urls = [\n",
    "        'http://www.weather.com.cn/textFC/hb.shtml',\n",
    "        'http://www.weather.com.cn/textFC/db.shtml',\n",
    "        'http://www.weather.com.cn/textFC/hz.shtml',\n",
    "        'http://www.weather.com.cn/textFC/hn.shtml',\n",
    "        'http://www.weather.com.cn/textFC/hd.shtml',\n",
    "        'http://www.weather.com.cn/textFC/xb.shtml',\n",
    "        'http://www.weather.com.cn/textFC/xn.shtml',\n",
    "        'http://www.weather.com.cn/textFC/gat.shtml'\n",
    "    ]\n",
    "    for url in urls:\n",
    "        parse_page(url)\n",
    "    # 分析数据，根据最低气温进行排序\n",
    "    ALL_DATA.sort(key=lambda data: data['最低气温'])\n",
    "    data = ALL_DATA[0:10]  # 取出前10的最低气温及其城市\n",
    "    return data"
   ]
  },
  {
   "cell_type": "code",
   "execution_count": 5,
   "id": "0387ee0b-5b42-4251-9815-539c319e53f1",
   "metadata": {},
   "outputs": [
    {
     "data": {
      "image/png": "[encoded data removed]",
      "text/plain": [
       "<Figure size 640x480 with 1 Axes>"
      ]
     },
     "metadata": {},
     "output_type": "display_data"
    }
   ],
   "source": [
    "datas = main()\n",
    "city = []\n",
    "temp = []\n",
    "plt.rcParams['font.sans-serif'] = ['Microsoft YaHei']  # 用来正常显示中文标签\n",
    "plt.rcParams['axes.unicode_minus'] = False  # 用来正常显示负号\n",
    "for data in datas:\n",
    "    city.append(data['城市'])\n",
    "    temp.append(data['最低气温'])\n",
    "plt.bar(range(len(city)), temp, tick_label=city)\n",
    "plt.show()"
   ]
  },
  {
   "cell_type": "code",
   "execution_count": null,
   "id": "0c0c4b00-3820-4845-a79b-14cef7d9bc59",
   "metadata": {},
   "outputs": [],
   "source": []
  }
 ],
 "metadata": {
  "kernelspec": {
   "display_name": "Python 3 (ipykernel)",
   "language": "python",
   "name": "python3"
  },
  "language_info": {
   "codemirror_mode": {
    "name": "ipython",
    "version": 3
   },
   "file_extension": ".py",
   "mimetype": "text/x-python",
   "name": "python",
   "nbconvert_exporter": "python",
   "pygments_lexer": "ipython3",
   "version": "3.12.0"
  }
 },
 "nbformat": 4,
 "nbformat_minor": 5
}
