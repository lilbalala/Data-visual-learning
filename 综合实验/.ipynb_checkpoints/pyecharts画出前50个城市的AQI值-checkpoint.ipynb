{
 "cells": [
  {
   "cell_type": "code",
   "execution_count": 1,
   "id": "247b4e5d-f582-43bb-81c3-357d141a2097",
   "metadata": {},
   "outputs": [],
   "source": [
    "import pandas as pd\n",
    "from pyecharts.charts import Bar\n",
    "from pyecharts import options as opts"
   ]
  },
  {
   "cell_type": "code",
   "execution_count": 5,
   "id": "69249227-a0e5-4a4a-a758-b8e1faa8990b",
   "metadata": {},
   "outputs": [],
   "source": [
    "def main():\n",
    "    aqi_data = pd.read_csv('data/china_city_AQI.csv')\n",
    "    print('基本信息：')\n",
    "    print(aqi_data.info())\n",
    "\n",
    "    print('数据预览：')\n",
    "    print(aqi_data.head())\n",
    "\n",
    "    # 数据清洗\n",
    "    clean_aqi_data = aqi_data[aqi_data['AQI'] > 0]\n",
    "\n",
    "    # 基本统计\n",
    "    print('AQI最大值：', clean_aqi_data['AQI'].max())\n",
    "    print('AQI最小值：', clean_aqi_data['AQI'].min())\n",
    "    print('AQI均值：', clean_aqi_data['AQI'].mean())\n",
    "\n",
    "    # top50\n",
    "    top50_cities = clean_aqi_data.sort_values(by=['AQI']).head(50)\n",
    "    bar = Bar()\n",
    "    bar.add_xaxis(top50_cities['City'].values.tolist())\n",
    "    bar.add_yaxis('',top50_cities['AQI'].values.tolist(),label_opts={'is_show':False})\n",
    "    bar.set_global_opts(title_opts=opts.TitleOpts(title='空气质量指数最优50城市'),\n",
    "                       xaxis_opts=opts.AxisOpts(interval=0,axislabel_opts=opts.LabelOpts(rotate=30)),\n",
    "                       datazoom_opts=[opts.DataZoomOpts(type_='slider'),opts.DataZoomOpts(type_='inside')],)\n",
    "\n",
    "    bar.render('空气质量指数最优50城市.html')"
   ]
  },
  {
   "cell_type": "code",
   "execution_count": 6,
   "id": "b5019cc4-9b77-4275-b05c-5dd5e0e24971",
   "metadata": {},
   "outputs": [
    {
     "name": "stdout",
     "output_type": "stream",
     "text": [
      "基本信息：\n",
      "<class 'pandas.core.frame.DataFrame'>\n",
      "RangeIndex: 375 entries, 0 to 374\n",
      "Data columns (total 9 columns):\n",
      " #   Column    Non-Null Count  Dtype  \n",
      "---  ------    --------------  -----  \n",
      " 0   City      375 non-null    object \n",
      " 1   AQI       375 non-null    int64  \n",
      " 2   PM2.5/1h  375 non-null    int64  \n",
      " 3   PM10/h    375 non-null    int64  \n",
      " 4   CO/1h     375 non-null    float64\n",
      " 5   NO2/1h    375 non-null    int64  \n",
      " 6   O3/1h     375 non-null    int64  \n",
      " 7   O3/8h     375 non-null    int64  \n",
      " 8   SO2/1h    375 non-null    int64  \n",
      "dtypes: float64(1), int64(7), object(1)\n",
      "memory usage: 26.5+ KB\n",
      "None\n",
      "数据预览：\n",
      "    City  AQI  PM2.5/1h  PM10/h  CO/1h  NO2/1h  O3/1h  O3/8h  SO2/1h\n",
      "0    阿坝州   34        11      24   0.90      19     64     67       7\n",
      "1  阿克苏地区  171        82     290   0.90      35     48     28      14\n",
      "2   阿拉善盟  113        84     106   0.87      27     74     71      19\n",
      "3  阿勒泰地区   25         5      14   1.15       7     40     48      18\n",
      "4   阿里地区    0         0       0   0.00       0      0     64       0\n",
      "AQI最大值： 500\n",
      "AQI最小值： 18\n",
      "AQI均值： 91.53494623655914\n"
     ]
    }
   ],
   "source": [
    "main()"
   ]
  },
  {
   "cell_type": "code",
   "execution_count": null,
   "id": "dc2d99b2-9178-4d40-a63d-805260f50679",
   "metadata": {},
   "outputs": [],
   "source": []
  }
 ],
 "metadata": {
  "kernelspec": {
   "display_name": "Python 3 (ipykernel)",
   "language": "python",
   "name": "python3"
  },
  "language_info": {
   "codemirror_mode": {
    "name": "ipython",
    "version": 3
   },
   "file_extension": ".py",
   "mimetype": "text/x-python",
   "name": "python",
   "nbconvert_exporter": "python",
   "pygments_lexer": "ipython3",
   "version": "3.12.0"
  }
 },
 "nbformat": 4,
 "nbformat_minor": 5
}
