{
 "cells": [
  {
   "cell_type": "code",
   "execution_count": 1,
   "id": "1fa2ac1f-31c9-430e-9586-90c8b17dcf2d",
   "metadata": {},
   "outputs": [],
   "source": [
    "import pandas as pd"
   ]
  },
  {
   "cell_type": "code",
   "execution_count": 8,
   "id": "10c89042-983c-49bf-988a-4b32bac56724",
   "metadata": {},
   "outputs": [],
   "source": [
    "def main():\n",
    "    aqi_data = pd.read_csv('data/china_city_AQI.csv')\n",
    "    print('基本信息：')\n",
    "    print(aqi_data.info())\n",
    "\n",
    "    print('数据预览：')\n",
    "    print(aqi_data.head())\n",
    "\n",
    "    # 基本统计\n",
    "    print('AQI最大值:', aqi_data['AQI'].max())\n",
    "    print('AQI最小值：', aqi_data['AQI'].min())\n",
    "    print('AQI均值：', aqi_data['AQI'].mean())\n",
    "\n",
    "    # top10\n",
    "    top10_cities = aqi_data.sort_values(by=['AQI']).head(10)\n",
    "    print('空气质量最好的10个城市：')\n",
    "    print(top10_cities)\n",
    "\n",
    "    # bottom10\n",
    "    # bottom10_cities = aqi_data.sort_values(by=['AQI']).tail(10)\n",
    "    bottom10_cities = aqi_data.sort_values(by=['AQI'], ascending=False).head(10)\n",
    "    print('空气质量最差的10个城市：')\n",
    "    print(bottom10_cities)\n",
    "\n",
    "    # 保存csv文件\n",
    "    top10_cities.to_csv('data/top10_aqi.csv', index=False)\n",
    "    bottom10_cities.to_csv('data/bottom10_aqi.csv', index=False)"
   ]
  },
  {
   "cell_type": "code",
   "execution_count": 9,
   "id": "809ce5f9-cb14-4f26-97ae-ca868bd167c8",
   "metadata": {
    "scrolled": true
   },
   "outputs": [
    {
     "name": "stdout",
     "output_type": "stream",
     "text": [
      "基本信息：\n",
      "<class 'pandas.core.frame.DataFrame'>\n",
      "RangeIndex: 375 entries, 0 to 374\n",
      "Data columns (total 9 columns):\n",
      " #   Column    Non-Null Count  Dtype  \n",
      "---  ------    --------------  -----  \n",
      " 0   City      375 non-null    object \n",
      " 1   AQI       375 non-null    int64  \n",
      " 2   PM2.5/1h  375 non-null    int64  \n",
      " 3   PM10/h    375 non-null    int64  \n",
      " 4   CO/1h     375 non-null    float64\n",
      " 5   NO2/1h    375 non-null    int64  \n",
      " 6   O3/1h     375 non-null    int64  \n",
      " 7   O3/8h     375 non-null    int64  \n",
      " 8   SO2/1h    375 non-null    int64  \n",
      "dtypes: float64(1), int64(7), object(1)\n",
      "memory usage: 26.5+ KB\n",
      "None\n",
      "数据预览：\n",
      "    City  AQI  PM2.5/1h  PM10/h  CO/1h  NO2/1h  O3/1h  O3/8h  SO2/1h\n",
      "0    阿坝州   34        11      24   0.90      19     64     67       7\n",
      "1  阿克苏地区  171        82     290   0.90      35     48     28      14\n",
      "2   阿拉善盟  113        84     106   0.87      27     74     71      19\n",
      "3  阿勒泰地区   25         5      14   1.15       7     40     48      18\n",
      "4   阿里地区    0         0       0   0.00       0      0     64       0\n",
      "AQI最大值: 500\n",
      "AQI最小值： 0\n",
      "AQI均值： 90.80266666666667\n",
      "空气质量最好的10个城市：\n",
      "      City  AQI  PM2.5/1h  PM10/h  CO/1h  NO2/1h  O3/1h  O3/8h  SO2/1h\n",
      "4     阿里地区    0         0       0   0.00       0      0     64       0\n",
      "334  伊犁哈萨克    0         0       0   0.00       0      0      0       0\n",
      "54   大兴安岭地    0         0       0   0.00       0      0      0       0\n",
      "358     肇庆   18        11      17   0.65      22     18     26       5\n",
      "177   林芝地区   18         4      16   0.35       6     51     35       3\n",
      "318  西双版纳州   19         8      14   0.60      12     38     36       7\n",
      "223     清远   19        13      18   0.90      19     16     23       4\n",
      "200     南平   20        13      19   0.75      16     26     27       6\n",
      "248     韶关   23        15      22   0.88      22     19     23       8\n",
      "338     鹰潭   23        16      19   0.48      23     11     13       6\n",
      "空气质量最差的10个城市：\n",
      "      City  AQI  PM2.5/1h  PM10/h  CO/1h  NO2/1h  O3/1h  O3/8h  SO2/1h\n",
      "283  吐鲁番地区  500       151     666   3.55      53     18     21      28\n",
      "15      宝鸡  292       241     257   1.94      77     62     50      11\n",
      "14      保定  269       218     278   3.08     113      4     10      47\n",
      "303     西安  269       218     255   2.14      89     23     26      19\n",
      "187     洛阳  257       206     256   1.77     110     10     23      27\n",
      "312     邢台  248       197     264   1.75      95     27     22      36\n",
      "297   乌鲁木齐  241       190     269   2.67      61     28     24       9\n",
      "287     渭南  237       186     236   2.00      81     27     34      25\n",
      "254    石家庄  235       184     263   2.36     107      8     13      47\n",
      "350     枣庄  225       174     257   1.72     103     14     38      53\n"
     ]
    }
   ],
   "source": [
    "main()"
   ]
  },
  {
   "cell_type": "code",
   "execution_count": null,
   "id": "4cd70d77-9dbe-4a08-b206-cfa919a39e7f",
   "metadata": {},
   "outputs": [],
   "source": []
  }
 ],
 "metadata": {
  "kernelspec": {
   "display_name": "Python 3 (ipykernel)",
   "language": "python",
   "name": "python3"
  },
  "language_info": {
   "codemirror_mode": {
    "name": "ipython",
    "version": 3
   },
   "file_extension": ".py",
   "mimetype": "text/x-python",
   "name": "python",
   "nbconvert_exporter": "python",
   "pygments_lexer": "ipython3",
   "version": "3.12.0"
  }
 },
 "nbformat": 4,
 "nbformat_minor": 5
}
