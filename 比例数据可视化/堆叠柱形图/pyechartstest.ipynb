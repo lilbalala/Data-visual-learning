{
 "cells": [
  {
   "cell_type": "code",
   "execution_count": 1,
   "id": "91276b71-cebb-4454-8bc6-cf1c0d36d797",
   "metadata": {},
   "outputs": [],
   "source": [
    "from pyecharts.charts import Bar\n",
    "from pyecharts import options as opts\n",
    "import pandas as pd"
   ]
  },
  {
   "cell_type": "code",
   "execution_count": 2,
   "id": "803384ea-64e1-4a63-adbd-7f5c28a70ca1",
   "metadata": {},
   "outputs": [
    {
     "data": {
      "text/plain": [
       "'E:\\\\pycharmworkspace\\\\数据可视化\\\\比例数据可视化\\\\堆叠柱形图\\\\堆叠示例图.html'"
      ]
     },
     "execution_count": 2,
     "metadata": {},
     "output_type": "execute_result"
    }
   ],
   "source": [
    "pre_approval_rate = pd.read_csv('../data/presidential_approval_rate.csv')\n",
    "bar = Bar()\n",
    "bar.add_xaxis(pre_approval_rate['political_issue'].values.tolist())\n",
    "bar.add_yaxis(\"支持\",pre_approval_rate['support'].values.tolist(),stack=True)\n",
    "bar.add_yaxis(\"反对\",pre_approval_rate['oppose'].values.tolist(),stack=True)\n",
    "bar.add_yaxis(\"不发表意见\",pre_approval_rate['no_opinion'].values.tolist(),stack=True)\n",
    "bar.set_global_opts(title_opts=opts.TitleOpts(title='柱状图数据堆叠示例'),\n",
    "                   xaxis_opts=opts.AxisOpts(axislabel_opts={'rotate':45}))\n",
    "bar.render('堆叠示例图.html')"
   ]
  }
 ],
 "metadata": {
  "kernelspec": {
   "display_name": "Python 3 (ipykernel)",
   "language": "python",
   "name": "python3"
  },
  "language_info": {
   "codemirror_mode": {
    "name": "ipython",
    "version": 3
   },
   "file_extension": ".py",
   "mimetype": "text/x-python",
   "name": "python",
   "nbconvert_exporter": "python",
   "pygments_lexer": "ipython3",
   "version": "3.12.0"
  }
 },
 "nbformat": 4,
 "nbformat_minor": 5
}
