{
 "cells": [
  {
   "cell_type": "code",
   "execution_count": 1,
   "id": "ace85479-2e2f-45ba-839c-9449ba991b54",
   "metadata": {},
   "outputs": [],
   "source": [
    "from pyecharts.charts import Bar\n",
    "from pyecharts import options as opts\n",
    "import pandas as pd"
   ]
  },
  {
   "cell_type": "code",
   "execution_count": 3,
   "id": "43d813b7-93c2-4322-9414-a4f648ba036b",
   "metadata": {},
   "outputs": [
    {
     "data": {
      "text/plain": [
       "'E:\\\\pycharmworkspace\\\\数据可视化\\\\比例数据可视化\\\\堆叠柱形图2\\\\堆叠图.html'"
      ]
     },
     "execution_count": 3,
     "metadata": {},
     "output_type": "execute_result"
    }
   ],
   "source": [
    "pre_approval_rate = pd.read_csv('../data/presidential_approval_rate.csv')\n",
    "bar = Bar()\n",
    "bar.add_xaxis(['支持','反对','不发表意见'])\n",
    "for i in range(len(pre_approval_rate)):\n",
    "    issue = pre_approval_rate.loc[i,'political_issue']\n",
    "    datay=pre_approval_rate.iloc[i,1:].values.tolist()\n",
    "    bar.add_yaxis(issue,[int(y) for y in datay] ,stack=True)\n",
    "bar.set_global_opts(title_opts=opts.TitleOpts(title='柱状图数据堆叠示例'),\n",
    "legend_opts=opts.LegendOpts(orient='vertical',pos_right='0'))\n",
    "bar.render('堆叠图.html')"
   ]
  }
 ],
 "metadata": {
  "kernelspec": {
   "display_name": "Python 3 (ipykernel)",
   "language": "python",
   "name": "python3"
  },
  "language_info": {
   "codemirror_mode": {
    "name": "ipython",
    "version": 3
   },
   "file_extension": ".py",
   "mimetype": "text/x-python",
   "name": "python",
   "nbconvert_exporter": "python",
   "pygments_lexer": "ipython3",
   "version": "3.12.0"
  }
 },
 "nbformat": 4,
 "nbformat_minor": 5
}
