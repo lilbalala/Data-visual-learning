{
 "cells": [
  {
   "cell_type": "code",
   "execution_count": 1,
   "id": "1fe7f1e4-337b-42ca-a45e-4d73825e560a",
   "metadata": {},
   "outputs": [],
   "source": [
    "import os\n",
    "import json\n",
    "from pyecharts.charts import TreeMap\n",
    "from pyecharts import options as opts\n",
    "with open('../data/GDP_data_1.json', 'r', encoding='utf-8') as f:\n",
    "    data = json.load(f)"
   ]
  },
  {
   "cell_type": "code",
   "execution_count": 2,
   "id": "5aef82b1-db28-46d8-9ebb-407b587fa7aa",
   "metadata": {},
   "outputs": [
    {
     "data": {
      "text/plain": [
       "'E:\\\\pycharmworkspace\\\\数据可视化\\\\比例数据可视化\\\\矩形树图\\\\矩形树图.html'"
      ]
     },
     "execution_count": 2,
     "metadata": {},
     "output_type": "execute_result"
    }
   ],
   "source": [
    "treemap = TreeMap()\n",
    "treemap.add(\"演示数据\", data, label_opts=opts.LabelOpts(is_show=True,position='inside'),leaf_depth=1)\n",
    "treemap.set_global_opts(title_opts=opts.TitleOpts(title='矩形树图示例'))\n",
    "treemap.render('矩形树图.html')"
   ]
  }
 ],
 "metadata": {
  "kernelspec": {
   "display_name": "Python 3 (ipykernel)",
   "language": "python",
   "name": "python3"
  },
  "language_info": {
   "codemirror_mode": {
    "name": "ipython",
    "version": 3
   },
   "file_extension": ".py",
   "mimetype": "text/x-python",
   "name": "python",
   "nbconvert_exporter": "python",
   "pygments_lexer": "ipython3",
   "version": "3.12.0"
  }
 },
 "nbformat": 4,
 "nbformat_minor": 5
}
