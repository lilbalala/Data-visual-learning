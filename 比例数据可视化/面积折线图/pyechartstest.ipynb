{
 "cells": [
  {
   "cell_type": "code",
   "execution_count": 1,
   "id": "d449a0c5-9926-4166-aea4-7cf1d1786c45",
   "metadata": {},
   "outputs": [],
   "source": [
    "from pyecharts.charts import Line\n",
    "from pyecharts import options as opts\n",
    "import pandas as pd"
   ]
  },
  {
   "cell_type": "code",
   "execution_count": 2,
   "id": "ce45782f-e16a-4f56-98bf-81057b5350e8",
   "metadata": {},
   "outputs": [],
   "source": [
    "year_population_age = pd.read_csv('../data/us_population_by_age.csv')"
   ]
  },
  {
   "cell_type": "code",
   "execution_count": 3,
   "id": "d272a864-6390-41c3-8f6a-068a614b10a2",
   "metadata": {},
   "outputs": [
    {
     "data": {
      "text/plain": [
       "'E:\\\\pycharmworkspace\\\\数据可视化\\\\比例数据可视化\\\\面积折线图\\\\堆叠面积图.html'"
      ]
     },
     "execution_count": 3,
     "metadata": {},
     "output_type": "execute_result"
    }
   ],
   "source": [
    "# 面积折线图\n",
    "line3 =Line()\n",
    "line3.add_xaxis( year_population_age['year'].values.tolist())\n",
    "line3.add_yaxis(\"5岁以下\",year_population_age['year_under5'].values.tolist(),\n",
    "                areastyle_opts=opts.AreaStyleOpts(color='red',opacity=0.5),stack=True,\n",
    "                markpoint_opts=opts.MarkPointOpts(data=[opts.MarkPointItem(name='最大值',type_='max')]))\n",
    "line3.add_yaxis(\"5至19岁\",year_population_age['year5_19'].values.tolist(),is_smooth=True,\n",
    "                areastyle_opts=opts.AreaStyleOpts(color='blue',opacity=0.5),stack=True,)\n",
    "line3.add_yaxis(\"20至44岁\",year_population_age['year20_44'].values.tolist(),is_smooth=True,\n",
    "                areastyle_opts=opts.AreaStyleOpts(color='green',opacity=0.5),stack=True,)\n",
    "line3.add_yaxis(\"45至64岁\",year_population_age['year45_64'].values.tolist(),is_smooth=True,\n",
    "                areastyle_opts=opts.AreaStyleOpts(color='yellow',opacity=0.5),stack=True,)\n",
    "line3.add_yaxis(\"65岁以上\",year_population_age['year65above'].values.tolist(),is_smooth=True,\n",
    "                areastyle_opts=opts.AreaStyleOpts(color='orange',opacity=0.5),stack=True,)\n",
    "line3.set_global_opts(title_opts=opts.TitleOpts(title='人口老龄化'),\n",
    "                      legend_opts=opts.LegendOpts(is_show=True,orient='vertical',pos_right='0'),\n",
    "                      xaxis_opts=opts.AxisOpts(axislabel_opts={'rotate':45}))\n",
    "line3.render('堆叠面积图.html')"
   ]
  }
 ],
 "metadata": {
  "kernelspec": {
   "display_name": "Python 3 (ipykernel)",
   "language": "python",
   "name": "python3"
  },
  "language_info": {
   "codemirror_mode": {
    "name": "ipython",
    "version": 3
   },
   "file_extension": ".py",
   "mimetype": "text/x-python",
   "name": "python",
   "nbconvert_exporter": "python",
   "pygments_lexer": "ipython3",
   "version": "3.12.0"
  }
 },
 "nbformat": 4,
 "nbformat_minor": 5
}
