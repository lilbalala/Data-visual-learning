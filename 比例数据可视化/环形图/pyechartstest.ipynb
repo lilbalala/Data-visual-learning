{
 "cells": [
  {
   "cell_type": "code",
   "execution_count": 17,
   "id": "2b180034-8aae-4e91-bc05-14654fef1f6f",
   "metadata": {},
   "outputs": [],
   "source": [
    "from pyecharts.charts import Pie\n",
    "from pyecharts import options as opts\n",
    "import pandas as pd"
   ]
  },
  {
   "cell_type": "code",
   "execution_count": 18,
   "id": "1ba437ee-642e-4042-8cea-1f861dd78283",
   "metadata": {},
   "outputs": [],
   "source": [
    "vote_result = pd.read_csv('../data/vote_result.csv')\n",
    "data = [list(z) for z in zip(vote_result['Areas_of_interest'],vote_result['Votes'])]"
   ]
  },
  {
   "cell_type": "code",
   "execution_count": 25,
   "id": "1f3ba2f4-d8bf-40ea-ae0e-39a679a13adc",
   "metadata": {},
   "outputs": [
    {
     "data": {
      "text/plain": [
       "'E:\\\\pycharmworkspace\\\\数据可视化\\\\比例数据可视化\\\\环形图\\\\环状图.html'"
      ]
     },
     "execution_count": 25,
     "metadata": {},
     "output_type": "execute_result"
    }
   ],
   "source": [
    "pie = Pie()\n",
    "pie.add(\"\",data,center=['50%','50%'],radius=['30%','75%'],label_opts=opts.LabelOpts(is_show=True))\n",
    "pie.set_global_opts(title_opts=opts.TitleOpts(title='饼图示例',\n",
    "                                              subtitle='数据可视化-用户感兴趣领域，以下是读者的投票结果。 \\n读者对金融、医疗保健、市场这3个领域最感兴趣'),\n",
    "                                              legend_opts = opts.LegendOpts(orient='vertical',pos_right='0'))\n",
    "pie.render('环状图.html')"
   ]
  },
  {
   "cell_type": "code",
   "execution_count": null,
   "id": "76c20a24-20bd-407a-b793-011acd3eb968",
   "metadata": {},
   "outputs": [],
   "source": []
  }
 ],
 "metadata": {
  "kernelspec": {
   "display_name": "Python 3 (ipykernel)",
   "language": "python",
   "name": "python3"
  },
  "language_info": {
   "codemirror_mode": {
    "name": "ipython",
    "version": 3
   },
   "file_extension": ".py",
   "mimetype": "text/x-python",
   "name": "python",
   "nbconvert_exporter": "python",
   "pygments_lexer": "ipython3",
   "version": "3.12.0"
  }
 },
 "nbformat": 4,
 "nbformat_minor": 5
}
