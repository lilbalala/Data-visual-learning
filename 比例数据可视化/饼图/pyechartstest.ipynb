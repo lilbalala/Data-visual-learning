{
 "cells": [
  {
   "cell_type": "code",
   "execution_count": 2,
   "id": "e63b19dc-6ba4-4da1-92b6-2e64ea0fb1b6",
   "metadata": {},
   "outputs": [],
   "source": [
    "from pyecharts.charts import Pie\n",
    "from pyecharts import options as opts\n",
    "import pandas as pd"
   ]
  },
  {
   "cell_type": "code",
   "execution_count": 6,
   "id": "05f08c39-bb26-412d-af39-8d9124a87538",
   "metadata": {},
   "outputs": [],
   "source": [
    "vote_result = pd.read_csv('../data/vote_result.csv')\n",
    "data = [list(z) for z in zip(vote_result['Areas_of_interest'],vote_result['Votes'])]"
   ]
  },
  {
   "cell_type": "code",
   "execution_count": 15,
   "id": "3fba65dc-8ed1-4896-93ab-ac81c778a287",
   "metadata": {},
   "outputs": [
    {
     "data": {
      "text/plain": [
       "'E:\\\\pycharmworkspace\\\\数据可视化\\\\比例数据可视化\\\\饼图\\\\饼图.html'"
      ]
     },
     "execution_count": 15,
     "metadata": {},
     "output_type": "execute_result"
    }
   ],
   "source": [
    "pie = Pie()\n",
    "pie.add(\"\",data , center = ['50%','50%'],label_opts=opts.LabelOpts(is_show=True))\n",
    "pie.set_global_opts(title_opts=opts.TitleOpts(title='饼图示例',\n",
    "                                             subtitle='数据可视化-用户感兴趣领域，以下是读者的投票结果。 \\n读者对金融、医疗保健、时长3个领域最感兴趣。'),\n",
    "                                             legend_opts=opts.LegendOpts(orient='vertical',pos_right='0'))\n",
    "pie.render('饼图.html')"
   ]
  },
  {
   "cell_type": "code",
   "execution_count": null,
   "id": "424c3cf6-0b3d-4d00-af4f-3ba5e0fddc8a",
   "metadata": {},
   "outputs": [],
   "source": []
  }
 ],
 "metadata": {
  "kernelspec": {
   "display_name": "Python 3 (ipykernel)",
   "language": "python",
   "name": "python3"
  },
  "language_info": {
   "codemirror_mode": {
    "name": "ipython",
    "version": 3
   },
   "file_extension": ".py",
   "mimetype": "text/x-python",
   "name": "python",
   "nbconvert_exporter": "python",
   "pygments_lexer": "ipython3",
   "version": "3.12.0"
  }
 },
 "nbformat": 4,
 "nbformat_minor": 5
}
