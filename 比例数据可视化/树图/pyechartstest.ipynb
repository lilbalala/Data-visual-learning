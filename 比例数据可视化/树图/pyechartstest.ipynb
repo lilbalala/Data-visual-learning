{
 "cells": [
  {
   "cell_type": "code",
   "execution_count": 2,
   "id": "98c5b882-eaf4-41b5-82aa-edb482a187f9",
   "metadata": {},
   "outputs": [],
   "source": [
    "import os\n",
    "import json\n",
    "import codecs\n",
    "from pyecharts.charts import Tree\n",
    "from pyecharts import options as opts\n",
    "with codecs.open('../data/GDP_data.json', 'r', encoding='utf-8') as f:\n",
    "    j = json.load(f)\n",
    "data = [j]"
   ]
  },
  {
   "cell_type": "code",
   "execution_count": 3,
   "id": "c30397fe-14e2-40d6-86ba-50a8f0471c41",
   "metadata": {},
   "outputs": [
    {
     "data": {
      "text/plain": [
       "'E:\\\\pycharmworkspace\\\\数据可视化\\\\比例数据可视化\\\\树图\\\\树图.html'"
      ]
     },
     "execution_count": 3,
     "metadata": {},
     "output_type": "execute_result"
    }
   ],
   "source": [
    "tree = Tree(init_opts=opts.InitOpts(width='1200px',height='800px'))\n",
    "tree.add(\"\", data,collapse_interval=3)\n",
    "tree.render('树图.html')"
   ]
  }
 ],
 "metadata": {
  "kernelspec": {
   "display_name": "Python 3 (ipykernel)",
   "language": "python",
   "name": "python3"
  },
  "language_info": {
   "codemirror_mode": {
    "name": "ipython",
    "version": 3
   },
   "file_extension": ".py",
   "mimetype": "text/x-python",
   "name": "python",
   "nbconvert_exporter": "python",
   "pygments_lexer": "ipython3",
   "version": "3.12.0"
  }
 },
 "nbformat": 4,
 "nbformat_minor": 5
}
